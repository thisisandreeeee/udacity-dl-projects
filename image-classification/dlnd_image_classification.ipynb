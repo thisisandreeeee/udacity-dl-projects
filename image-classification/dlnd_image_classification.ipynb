{
 "cells": [
  {
   "cell_type": "markdown",
   "metadata": {
    "collapsed": true,
    "deletable": true,
    "editable": true
   },
   "source": [
    "# Image Classification\n",
    "In this project, you'll classify images from the [CIFAR-10 dataset](https://www.cs.toronto.edu/~kriz/cifar.html).  The dataset consists of airplanes, dogs, cats, and other objects. You'll preprocess the images, then train a convolutional neural network on all the samples. The images need to be normalized and the labels need to be one-hot encoded.  You'll get to apply what you learned and build a convolutional, max pooling, dropout, and fully connected layers.  At the end, you'll get to see your neural network's predictions on the sample images.\n",
    "## Get the Data\n",
    "Run the following cell to download the [CIFAR-10 dataset for python](https://www.cs.toronto.edu/~kriz/cifar-10-python.tar.gz)."
   ]
  },
  {
   "cell_type": "code",
   "execution_count": 1,
   "metadata": {
    "collapsed": false,
    "deletable": true,
    "editable": true
   },
   "outputs": [
    {
     "name": "stderr",
     "output_type": "stream",
     "text": [
      "CIFAR-10 Dataset: 171MB [01:12, 2.35MB/s]                              \n"
     ]
    },
    {
     "name": "stdout",
     "output_type": "stream",
     "text": [
      "All files found!\n"
     ]
    }
   ],
   "source": [
    "\"\"\"\n",
    "DON'T MODIFY ANYTHING IN THIS CELL THAT IS BELOW THIS LINE\n",
    "\"\"\"\n",
    "from urllib.request import urlretrieve\n",
    "from os.path import isfile, isdir\n",
    "from tqdm import tqdm\n",
    "import problem_unittests as tests\n",
    "import tarfile\n",
    "\n",
    "cifar10_dataset_folder_path = 'cifar-10-batches-py'\n",
    "\n",
    "# Use Floyd's cifar-10 dataset if present\n",
    "floyd_cifar10_location = '/input/cifar-10/python.tar.gz'\n",
    "if isfile(floyd_cifar10_location):\n",
    "    tar_gz_path = floyd_cifar10_location\n",
    "else:\n",
    "    tar_gz_path = 'cifar-10-python.tar.gz'\n",
    "\n",
    "class DLProgress(tqdm):\n",
    "    last_block = 0\n",
    "\n",
    "    def hook(self, block_num=1, block_size=1, total_size=None):\n",
    "        self.total = total_size\n",
    "        self.update((block_num - self.last_block) * block_size)\n",
    "        self.last_block = block_num\n",
    "\n",
    "if not isfile(tar_gz_path):\n",
    "    with DLProgress(unit='B', unit_scale=True, miniters=1, desc='CIFAR-10 Dataset') as pbar:\n",
    "        urlretrieve(\n",
    "            'https://www.cs.toronto.edu/~kriz/cifar-10-python.tar.gz',\n",
    "            tar_gz_path,\n",
    "            pbar.hook)\n",
    "\n",
    "if not isdir(cifar10_dataset_folder_path):\n",
    "    with tarfile.open(tar_gz_path) as tar:\n",
    "        tar.extractall()\n",
    "        tar.close()\n",
    "\n",
    "\n",
    "tests.test_folder_path(cifar10_dataset_folder_path)"
   ]
  },
  {
   "cell_type": "markdown",
   "metadata": {
    "deletable": true,
    "editable": true
   },
   "source": [
    "## Explore the Data\n",
    "The dataset is broken into batches to prevent your machine from running out of memory.  The CIFAR-10 dataset consists of 5 batches, named `data_batch_1`, `data_batch_2`, etc.. Each batch contains the labels and images that are one of the following:\n",
    "* airplane\n",
    "* automobile\n",
    "* bird\n",
    "* cat\n",
    "* deer\n",
    "* dog\n",
    "* frog\n",
    "* horse\n",
    "* ship\n",
    "* truck\n",
    "\n",
    "Understanding a dataset is part of making predictions on the data.  Play around with the code cell below by changing the `batch_id` and `sample_id`. The `batch_id` is the id for a batch (1-5). The `sample_id` is the id for a image and label pair in the batch.\n",
    "\n",
    "Ask yourself \"What are all possible labels?\", \"What is the range of values for the image data?\", \"Are the labels in order or random?\".  Answers to questions like these will help you preprocess the data and end up with better predictions."
   ]
  },
  {
   "cell_type": "code",
   "execution_count": 2,
   "metadata": {
    "collapsed": false,
    "deletable": true,
    "editable": true
   },
   "outputs": [
    {
     "name": "stdout",
     "output_type": "stream",
     "text": [
      "\n",
      "Stats of batch 1:\n",
      "Samples: 10000\n",
      "Label Counts: {0: 1005, 1: 974, 2: 1032, 3: 1016, 4: 999, 5: 937, 6: 1030, 7: 1001, 8: 1025, 9: 981}\n",
      "First 20 Labels: [6, 9, 9, 4, 1, 1, 2, 7, 8, 3, 4, 7, 7, 2, 9, 9, 9, 3, 2, 6]\n",
      "\n",
      "Example of Image 5:\n",
      "Image - Min Value: 0 Max Value: 252\n",
      "Image - Shape: (32, 32, 3)\n",
      "Label - Label Id: 1 Name: automobile\n"
     ]
    },
    {
     "data": {
      "image/png": "[encoded data removed]",
      "text/plain": [
       "<matplotlib.figure.Figure at 0x7f030e1e6b70>"
      ]
     },
     "metadata": {
      "image/png": {
       "height": 250,
       "width": 253
      }
     },
     "output_type": "display_data"
    }
   ],
   "source": [
    "%matplotlib inline\n",
    "%config InlineBackend.figure_format = 'retina'\n",
    "\n",
    "import helper\n",
    "import numpy as np\n",
    "\n",
    "# Explore the dataset\n",
    "batch_id = 1\n",
    "sample_id = 5\n",
    "helper.display_stats(cifar10_dataset_folder_path, batch_id, sample_id)"
   ]
  },
  {
   "cell_type": "markdown",
   "metadata": {
    "deletable": true,
    "editable": true
   },
   "source": [
    "## Implement Preprocess Functions\n",
    "### Normalize\n",
    "In the cell below, implement the `normalize` function to take in image data, `x`, and return it as a normalized Numpy array. The values should be in the range of 0 to 1, inclusive.  The return object should be the same shape as `x`."
   ]
  },
  {
   "cell_type": "code",
   "execution_count": 4,
   "metadata": {
    "collapsed": false,
    "deletable": true,
    "editable": true
   },
   "outputs": [
    {
     "name": "stdout",
     "output_type": "stream",
     "text": [
      "Tests Passed\n"
     ]
    }
   ],
   "source": [
    "def normalize(x):\n",
    "    \"\"\"\n",
    "    Normalize a list of sample image data in the range of 0 to 1\n",
    "    : x: List of image data.  The image shape is (32, 32, 3)\n",
    "    : return: Numpy array of normalize data\n",
    "    \"\"\"\n",
    "    # TODO: Implement Function\n",
    "    return x / 255.\n",
    "\n",
    "\n",
    "\"\"\"\n",
    "DON'T MODIFY ANYTHING IN THIS CELL THAT IS BELOW THIS LINE\n",
    "\"\"\"\n",
    "tests.test_normalize(normalize)"
   ]
  },
  {
   "cell_type": "markdown",
   "metadata": {
    "deletable": true,
    "editable": true
   },
   "source": [
    "### One-hot encode\n",
    "Just like the previous code cell, you'll be implementing a function for preprocessing.  This time, you'll implement the `one_hot_encode` function. The input, `x`, are a list of labels.  Implement the function to return the list of labels as One-Hot encoded Numpy array.  The possible values for labels are 0 to 9. The one-hot encoding function should return the same encoding for each value between each call to `one_hot_encode`.  Make sure to save the map of encodings outside the function.\n",
    "\n",
    "Hint: Don't reinvent the wheel."
   ]
  },
  {
   "cell_type": "code",
   "execution_count": 5,
   "metadata": {
    "collapsed": false,
    "deletable": true,
    "editable": true
   },
   "outputs": [
    {
     "name": "stdout",
     "output_type": "stream",
     "text": [
      "Tests Passed\n"
     ]
    }
   ],
   "source": [
    "import sklearn.preprocessing\n",
    "\n",
    "def one_hot_encode(x):\n",
    "    \"\"\"\n",
    "    One hot encode a list of sample labels. Return a one-hot encoded vector for each label.\n",
    "    : x: List of sample Labels\n",
    "    : return: Numpy array of one-hot encoded labels\n",
    "    \"\"\"\n",
    "    # TODO: Implement Function\n",
    "    lb = sklearn.preprocessing.LabelBinarizer()\n",
    "    lb.fit(range(max(x)+1))\n",
    "    return lb.transform(x)\n",
    "\n",
    "\n",
    "\"\"\"\n",
    "DON'T MODIFY ANYTHING IN THIS CELL THAT IS BELOW THIS LINE\n",
    "\"\"\"\n",
    "tests.test_one_hot_encode(one_hot_encode)"
   ]
  },
  {
   "cell_type": "markdown",
   "metadata": {
    "deletable": true,
    "editable": true
   },
   "source": [
    "### Randomize Data\n",
    "As you saw from exploring the data above, the order of the samples are randomized.  It doesn't hurt to randomize it again, but you don't need to for this dataset."
   ]
  },
  {
   "cell_type": "markdown",
   "metadata": {
    "deletable": true,
    "editable": true
   },
   "source": [
    "## Preprocess all the data and save it\n",
    "Running the code cell below will preprocess all the CIFAR-10 data and save it to file. The code below also uses 10% of the training data for validation."
   ]
  },
  {
   "cell_type": "code",
   "execution_count": 6,
   "metadata": {
    "collapsed": false,
    "deletable": true,
    "editable": true
   },
   "outputs": [],
   "source": [
    "\"\"\"\n",
    "DON'T MODIFY ANYTHING IN THIS CELL\n",
    "\"\"\"\n",
    "# Preprocess Training, Validation, and Testing Data\n",
    "helper.preprocess_and_save_data(cifar10_dataset_folder_path, normalize, one_hot_encode)"
   ]
  },
  {
   "cell_type": "markdown",
   "metadata": {
    "deletable": true,
    "editable": true
   },
   "source": [
    "# Check Point\n",
    "This is your first checkpoint.  If you ever decide to come back to this notebook or have to restart the notebook, you can start from here.  The preprocessed data has been saved to disk."
   ]
  },
  {
   "cell_type": "code",
   "execution_count": 7,
   "metadata": {
    "collapsed": true,
    "deletable": true,
    "editable": true
   },
   "outputs": [],
   "source": [
    "\"\"\"\n",
    "DON'T MODIFY ANYTHING IN THIS CELL\n",
    "\"\"\"\n",
    "import pickle\n",
    "import problem_unittests as tests\n",
    "import helper\n",
    "\n",
    "# Load the Preprocessed Validation data\n",
    "valid_features, valid_labels = pickle.load(open('preprocess_validation.p', mode='rb'))"
   ]
  },
  {
   "cell_type": "markdown",
   "metadata": {
    "deletable": true,
    "editable": true
   },
   "source": [
    "## Build the network\n",
    "For the neural network, you'll build each layer into a function.  Most of the code you've seen has been outside of functions. To test your code more thoroughly, we require that you put each layer in a function.  This allows us to give you better feedback and test for simple mistakes using our unittests before you submit your project.\n",
    "\n",
    ">**Note:** If you're finding it hard to dedicate enough time for this course each week, we've provided a small shortcut to this part of the project. In the next couple of problems, you'll have the option to use classes from the [TensorFlow Layers](https://www.tensorflow.org/api_docs/python/tf/layers) or [TensorFlow Layers (contrib)](https://www.tensorflow.org/api_guides/python/contrib.layers) packages to build each layer, except the layers you build in the \"Convolutional and Max Pooling Layer\" section.  TF Layers is similar to Keras's and TFLearn's abstraction to layers, so it's easy to pickup.\n",
    "\n",
    ">However, if you would like to get the most out of this course, try to solve all the problems _without_ using anything from the TF Layers packages. You **can** still use classes from other packages that happen to have the same name as ones you find in TF Layers! For example, instead of using the TF Layers version of the `conv2d` class, [tf.layers.conv2d](https://www.tensorflow.org/api_docs/python/tf/layers/conv2d), you would want to use the TF Neural Network version of `conv2d`, [tf.nn.conv2d](https://www.tensorflow.org/api_docs/python/tf/nn/conv2d). \n",
    "\n",
    "Let's begin!\n",
    "\n",
    "### Input\n",
    "The neural network needs to read the image data, one-hot encoded labels, and dropout keep probability. Implement the following functions\n",
    "* Implement `neural_net_image_input`\n",
    " * Return a [TF Placeholder](https://www.tensorflow.org/api_docs/python/tf/placeholder)\n",
    " * Set the shape using `image_shape` with batch size set to `None`.\n",
    " * Name the TensorFlow placeholder \"x\" using the TensorFlow `name` parameter in the [TF Placeholder](https://www.tensorflow.org/api_docs/python/tf/placeholder).\n",
    "* Implement `neural_net_label_input`\n",
    " * Return a [TF Placeholder](https://www.tensorflow.org/api_docs/python/tf/placeholder)\n",
    " * Set the shape using `n_classes` with batch size set to `None`.\n",
    " * Name the TensorFlow placeholder \"y\" using the TensorFlow `name` parameter in the [TF Placeholder](https://www.tensorflow.org/api_docs/python/tf/placeholder).\n",
    "* Implement `neural_net_keep_prob_input`\n",
    " * Return a [TF Placeholder](https://www.tensorflow.org/api_docs/python/tf/placeholder) for dropout keep probability.\n",
    " * Name the TensorFlow placeholder \"keep_prob\" using the TensorFlow `name` parameter in the [TF Placeholder](https://www.tensorflow.org/api_docs/python/tf/placeholder).\n",
    "\n",
    "These names will be used at the end of the project to load your saved model.\n",
    "\n",
    "Note: `None` for shapes in TensorFlow allow for a dynamic size."
   ]
  },
  {
   "cell_type": "code",
   "execution_count": 9,
   "metadata": {
    "collapsed": false,
    "deletable": true,
    "editable": true
   },
   "outputs": [
    {
     "name": "stdout",
     "output_type": "stream",
     "text": [
      "Image Input Tests Passed.\n",
      "Label Input Tests Passed.\n",
      "Keep Prob Tests Passed.\n"
     ]
    }
   ],
   "source": [
    "import tensorflow as tf\n",
    "\n",
    "def neural_net_image_input(image_shape):\n",
    "    \"\"\"\n",
    "    Return a Tensor for a batch of image input\n",
    "    : image_shape: Shape of the images\n",
    "    : return: Tensor for image input.\n",
    "    \"\"\"\n",
    "    # TODO: Implement Function\n",
    "    return tf.placeholder(tf.float32, [None, *image_shape], name='x')\n",
    "\n",
    "\n",
    "def neural_net_label_input(n_classes):\n",
    "    \"\"\"\n",
    "    Return a Tensor for a batch of label input\n",
    "    : n_classes: Number of classes\n",
    "    : return: Tensor for label input.\n",
    "    \"\"\"\n",
    "    # TODO: Implement Function\n",
    "    return tf.placeholder(tf.float32, [None, n_classes], name='y')\n",
    "\n",
    "\n",
    "def neural_net_keep_prob_input():\n",
    "    \"\"\"\n",
    "    Return a Tensor for keep probability\n",
    "    : return: Tensor for keep probability.\n",
    "    \"\"\"\n",
    "    # TODO: Implement Function\n",
    "    return tf.placeholder(tf.float32, name=\"keep_prob\")\n",
    "\n",
    "\n",
    "\"\"\"\n",
    "DON'T MODIFY ANYTHING IN THIS CELL THAT IS BELOW THIS LINE\n",
    "\"\"\"\n",
    "tf.reset_default_graph()\n",
    "tests.test_nn_image_inputs(neural_net_image_input)\n",
    "tests.test_nn_label_inputs(neural_net_label_input)\n",
    "tests.test_nn_keep_prob_inputs(neural_net_keep_prob_input)"
   ]
  },
  {
   "cell_type": "markdown",
   "metadata": {
    "deletable": true,
    "editable": true
   },
   "source": [
    "### Convolution and Max Pooling Layer\n",
    "Convolution layers have a lot of success with images. For this code cell, you should implement the function `conv2d_maxpool` to apply convolution then max pooling:\n",
    "* Create the weight and bias using `conv_ksize`, `conv_num_outputs` and the shape of `x_tensor`.\n",
    "* Apply a convolution to `x_tensor` using weight and `conv_strides`.\n",
    " * We recommend you use same padding, but you're welcome to use any padding.\n",
    "* Add bias\n",
    "* Add a nonlinear activation to the convolution.\n",
    "* Apply Max Pooling using `pool_ksize` and `pool_strides`.\n",
    " * We recommend you use same padding, but you're welcome to use any padding.\n",
    "\n",
    "**Note:** You **can't** use [TensorFlow Layers](https://www.tensorflow.org/api_docs/python/tf/layers) or [TensorFlow Layers (contrib)](https://www.tensorflow.org/api_guides/python/contrib.layers) for **this** layer, but you can still use TensorFlow's [Neural Network](https://www.tensorflow.org/api_docs/python/tf/nn) package. You may still use the shortcut option for all the **other** layers."
   ]
  },
  {
   "cell_type": "code",
   "execution_count": 11,
   "metadata": {
    "collapsed": false,
    "deletable": true,
    "editable": true
   },
   "outputs": [
    {
     "name": "stdout",
     "output_type": "stream",
     "text": [
      "Tests Passed\n"
     ]
    }
   ],
   "source": [
    "def conv2d_maxpool(x_tensor, conv_num_outputs, conv_ksize, conv_strides, pool_ksize, pool_strides):\n",
    "    \"\"\"\n",
    "    Apply convolution then max pooling to x_tensor\n",
    "    :param x_tensor: TensorFlow Tensor\n",
    "    :param conv_num_outputs: Number of outputs for the convolutional layer\n",
    "    :param conv_ksize: kernal size 2-D Tuple for the convolutional layer\n",
    "    :param conv_strides: Stride 2-D Tuple for convolution\n",
    "    :param pool_ksize: kernal size 2-D Tuple for pool\n",
    "    :param pool_strides: Stride 2-D Tuple for pool\n",
    "    : return: A tensor that represents convolution and max pooling of x_tensor\n",
    "    \"\"\"\n",
    "    # TODO: Implement Function\n",
    "    W = tf.Variable(tf.truncated_normal([*conv_ksize, int(x_tensor.shape[3]), conv_num_outputs], stddev=0.1))\n",
    "    b = tf.Variable(tf.constant(0.05, shape=[conv_num_outputs]))\n",
    "    x = tf.nn.conv2d(x_tensor, W, strides=[1, *conv_strides, 1], padding='SAME')\n",
    "    x = tf.nn.bias_add(x, b)\n",
    "    x = tf.nn.max_pool(x, ksize=[1, *pool_ksize, 1], strides=[1, *pool_strides, 1], padding='SAME')\n",
    "    x = tf.nn.relu(x)\n",
    "    return x \n",
    "\n",
    "\n",
    "\"\"\"\n",
    "DON'T MODIFY ANYTHING IN THIS CELL THAT IS BELOW THIS LINE\n",
    "\"\"\"\n",
    "tests.test_con_pool(conv2d_maxpool)"
   ]
  },
  {
   "cell_type": "markdown",
   "metadata": {
    "deletable": true,
    "editable": true
   },
   "source": [
    "### Flatten Layer\n",
    "Implement the `flatten` function to change the dimension of `x_tensor` from a 4-D tensor to a 2-D tensor.  The output should be the shape (*Batch Size*, *Flattened Image Size*). Shortcut option: you can use classes from the [TensorFlow Layers](https://www.tensorflow.org/api_docs/python/tf/layers) or [TensorFlow Layers (contrib)](https://www.tensorflow.org/api_guides/python/contrib.layers) packages for this layer. For more of a challenge, only use other TensorFlow packages."
   ]
  },
  {
   "cell_type": "code",
   "execution_count": 12,
   "metadata": {
    "collapsed": false,
    "deletable": true,
    "editable": true
   },
   "outputs": [
    {
     "name": "stdout",
     "output_type": "stream",
     "text": [
      "Tests Passed\n"
     ]
    }
   ],
   "source": [
    "def flatten(x_tensor):\n",
    "    \"\"\"\n",
    "    Flatten x_tensor to (Batch Size, Flattened Image Size)\n",
    "    : x_tensor: A tensor of size (Batch Size, ...), where ... are the image dimensions.\n",
    "    : return: A tensor of size (Batch Size, Flattened Image Size).\n",
    "    \"\"\"\n",
    "    # TODO: Implement Function\n",
    "    size = int(x_tensor.shape[1]) * int(x_tensor.shape[2]) * int(x_tensor.shape[3])\n",
    "    return tf.reshape(x_tensor, [-1, size])\n",
    "\n",
    "\n",
    "\"\"\"\n",
    "DON'T MODIFY ANYTHING IN THIS CELL THAT IS BELOW THIS LINE\n",
    "\"\"\"\n",
    "tests.test_flatten(flatten)"
   ]
  },
  {
   "cell_type": "markdown",
   "metadata": {
    "deletable": true,
    "editable": true
   },
   "source": [
    "### Fully-Connected Layer\n",
    "Implement the `fully_conn` function to apply a fully connected layer to `x_tensor` with the shape (*Batch Size*, *num_outputs*). Shortcut option: you can use classes from the [TensorFlow Layers](https://www.tensorflow.org/api_docs/python/tf/layers) or [TensorFlow Layers (contrib)](https://www.tensorflow.org/api_guides/python/contrib.layers) packages for this layer. For more of a challenge, only use other TensorFlow packages."
   ]
  },
  {
   "cell_type": "code",
   "execution_count": 14,
   "metadata": {
    "collapsed": false,
    "deletable": true,
    "editable": true
   },
   "outputs": [
    {
     "name": "stdout",
     "output_type": "stream",
     "text": [
      "Tests Passed\n"
     ]
    }
   ],
   "source": [
    "def fully_conn(x_tensor, num_outputs):\n",
    "    \"\"\"\n",
    "    Apply a fully connected layer to x_tensor using weight and bias\n",
    "    : x_tensor: A 2-D tensor where the first dimension is batch size.\n",
    "    : num_outputs: The number of output that the new tensor should be.\n",
    "    : return: A 2-D tensor where the second dimension is num_outputs.\n",
    "    \"\"\"\n",
    "    # TODO: Implement Function\n",
    "    W = tf.Variable(tf.truncated_normal([int(x_tensor.shape[1]), num_outputs], stddev=0.1))\n",
    "    b = tf.Variable(tf.constant(0.05, shape=[num_outputs]))\n",
    "    x = tf.add(tf.matmul(x_tensor, W), b)\n",
    "    x = tf.nn.relu(x)\n",
    "    return x\n",
    "\n",
    "\n",
    "\"\"\"\n",
    "DON'T MODIFY ANYTHING IN THIS CELL THAT IS BELOW THIS LINE\n",
    "\"\"\"\n",
    "tests.test_fully_conn(fully_conn)"
   ]
  },
  {
   "cell_type": "markdown",
   "metadata": {
    "deletable": true,
    "editable": true
   },
   "source": [
    "### Output Layer\n",
    "Implement the `output` function to apply a fully connected layer to `x_tensor` with the shape (*Batch Size*, *num_outputs*). Shortcut option: you can use classes from the [TensorFlow Layers](https://www.tensorflow.org/api_docs/python/tf/layers) or [TensorFlow Layers (contrib)](https://www.tensorflow.org/api_guides/python/contrib.layers) packages for this layer. For more of a challenge, only use other TensorFlow packages.\n",
    "\n",
    "**Note:** Activation, softmax, or cross entropy should **not** be applied to this."
   ]
  },
  {
   "cell_type": "code",
   "execution_count": 17,
   "metadata": {
    "collapsed": false,
    "deletable": true,
    "editable": true
   },
   "outputs": [
    {
     "name": "stdout",
     "output_type": "stream",
     "text": [
      "Tests Passed\n"
     ]
    }
   ],
   "source": [
    "def output(x_tensor, num_outputs):\n",
    "    \"\"\"\n",
    "    Apply a output layer to x_tensor using weight and bias\n",
    "    : x_tensor: A 2-D tensor where the first dimension is batch size.\n",
    "    : num_outputs: The number of output that the new tensor should be.\n",
    "    : return: A 2-D tensor where the second dimension is num_outputs.\n",
    "    \"\"\"\n",
    "    # TODO: Implement Function\n",
    "    W = tf.Variable(tf.truncated_normal([int(x_tensor.shape[1]), num_outputs], stddev=0.1))\n",
    "    b = tf.Variable(tf.constant(0.05, shape=[num_outputs]))\n",
    "    x = tf.add(tf.matmul(x_tensor, W), b)\n",
    "    return x\n",
    "\n",
    "\n",
    "\"\"\"\n",
    "DON'T MODIFY ANYTHING IN THIS CELL THAT IS BELOW THIS LINE\n",
    "\"\"\"\n",
    "tests.test_output(output)"
   ]
  },
  {
   "cell_type": "markdown",
   "metadata": {
    "deletable": true,
    "editable": true
   },
   "source": [
    "### Create Convolutional Model\n",
    "Implement the function `conv_net` to create a convolutional neural network model. The function takes in a batch of images, `x`, and outputs logits.  Use the layers you created above to create this model:\n",
    "\n",
    "* Apply 1, 2, or 3 Convolution and Max Pool layers\n",
    "* Apply a Flatten Layer\n",
    "* Apply 1, 2, or 3 Fully Connected Layers\n",
    "* Apply an Output Layer\n",
    "* Return the output\n",
    "* Apply [TensorFlow's Dropout](https://www.tensorflow.org/api_docs/python/tf/nn/dropout) to one or more layers in the model using `keep_prob`. "
   ]
  },
  {
   "cell_type": "code",
   "execution_count": 33,
   "metadata": {
    "collapsed": false,
    "deletable": true,
    "editable": true
   },
   "outputs": [
    {
     "name": "stdout",
     "output_type": "stream",
     "text": [
      "Neural Network Built!\n"
     ]
    }
   ],
   "source": [
    "def conv_net(x, keep_prob):\n",
    "    \"\"\"\n",
    "    Create a convolutional neural network model\n",
    "    : x: Placeholder tensor that holds image data.\n",
    "    : keep_prob: Placeholder tensor that hold dropout keep probability.\n",
    "    : return: Tensor that represents logits\n",
    "    \"\"\"\n",
    "    # TODO: Apply 1, 2, or 3 Convolution and Max Pool layers\n",
    "    #    Play around with different number of outputs, kernel size and stride\n",
    "    # Function Definition from Above:\n",
    "    #    conv2d_maxpool(x_tensor, conv_num_outputs, conv_ksize, conv_strides, pool_ksize, pool_strides)\n",
    "    x = conv2d_maxpool(x, 8, (3,3), (1,1), (3,3), (1,1))\n",
    "    x = conv2d_maxpool(x, 16, (3,3), (1,1), (3,3), (1,1))\n",
    "\n",
    "    # TODO: Apply a Flatten Layer\n",
    "    # Function Definition from Above:\n",
    "    #   flatten(x_tensor)\n",
    "    x = flatten(x)\n",
    "    x = tf.nn.dropout(x, keep_prob = keep_prob)\n",
    "\n",
    "    # TODO: Apply 1, 2, or 3 Fully Connected Layers\n",
    "    #    Play around with different number of outputs\n",
    "    # Function Definition from Above:\n",
    "    #   fully_conn(x_tensor, num_outputs)\n",
    "    x = fully_conn(x, 32)\n",
    "    \n",
    "    # TODO: Apply an Output Layer\n",
    "    #    Set this to the number of classes\n",
    "    # Function Definition from Above:\n",
    "    #   output(x_tensor, num_outputs)\n",
    "    x = output(x, 10)\n",
    "    \n",
    "    # TODO: return output\n",
    "    return x\n",
    "\n",
    "\n",
    "\"\"\"\n",
    "DON'T MODIFY ANYTHING IN THIS CELL THAT IS BELOW THIS LINE\n",
    "\"\"\"\n",
    "\n",
    "##############################\n",
    "## Build the Neural Network ##\n",
    "##############################\n",
    "\n",
    "# Remove previous weights, bias, inputs, etc..\n",
    "tf.reset_default_graph()\n",
    "\n",
    "# Inputs\n",
    "x = neural_net_image_input((32, 32, 3))\n",
    "y = neural_net_label_input(10)\n",
    "keep_prob = neural_net_keep_prob_input()\n",
    "\n",
    "# Model\n",
    "logits = conv_net(x, keep_prob)\n",
    "\n",
    "# Name logits Tensor, so that is can be loaded from disk after training\n",
    "logits = tf.identity(logits, name='logits')\n",
    "\n",
    "# Loss and Optimizer\n",
    "cost = tf.reduce_mean(tf.nn.softmax_cross_entropy_with_logits(logits=logits, labels=y))\n",
    "optimizer = tf.train.AdamOptimizer().minimize(cost)\n",
    "\n",
    "# Accuracy\n",
    "correct_pred = tf.equal(tf.argmax(logits, 1), tf.argmax(y, 1))\n",
    "accuracy = tf.reduce_mean(tf.cast(correct_pred, tf.float32), name='accuracy')\n",
    "\n",
    "tests.test_conv_net(conv_net)"
   ]
  },
  {
   "cell_type": "markdown",
   "metadata": {
    "deletable": true,
    "editable": true
   },
   "source": [
    "## Train the Neural Network\n",
    "### Single Optimization\n",
    "Implement the function `train_neural_network` to do a single optimization.  The optimization should use `optimizer` to optimize in `session` with a `feed_dict` of the following:\n",
    "* `x` for image input\n",
    "* `y` for labels\n",
    "* `keep_prob` for keep probability for dropout\n",
    "\n",
    "This function will be called for each batch, so `tf.global_variables_initializer()` has already been called.\n",
    "\n",
    "Note: Nothing needs to be returned. This function is only optimizing the neural network."
   ]
  },
  {
   "cell_type": "code",
   "execution_count": null,
   "metadata": {
    "collapsed": false,
    "deletable": true,
    "editable": true
   },
   "outputs": [],
   "source": [
    "def train_neural_network(session, optimizer, keep_probability, feature_batch, label_batch):\n",
    "    \"\"\"\n",
    "    Optimize the session on a batch of images and labels\n",
    "    : session: Current TensorFlow session\n",
    "    : optimizer: TensorFlow optimizer function\n",
    "    : keep_probability: keep probability\n",
    "    : feature_batch: Batch of Numpy image data\n",
    "    : label_batch: Batch of Numpy label data\n",
    "    \"\"\"\n",
    "    # TODO: Implement Function\n",
    "    session.run(optimizer, feed_dict={\n",
    "        x: feature_batch, \n",
    "        y: label_batch, \n",
    "        keep_prob: keep_probability})\n",
    "\n",
    "\n",
    "\"\"\"\n",
    "DON'T MODIFY ANYTHING IN THIS CELL THAT IS BELOW THIS LINE\n",
    "\"\"\"\n",
    "tests.test_train_nn(train_neural_network)"
   ]
  },
  {
   "cell_type": "markdown",
   "metadata": {
    "deletable": true,
    "editable": true
   },
   "source": [
    "### Show Stats\n",
    "Implement the function `print_stats` to print loss and validation accuracy.  Use the global variables `valid_features` and `valid_labels` to calculate validation accuracy.  Use a keep probability of `1.0` to calculate the loss and validation accuracy."
   ]
  },
  {
   "cell_type": "code",
   "execution_count": null,
   "metadata": {
    "collapsed": false,
    "deletable": true,
    "editable": true
   },
   "outputs": [],
   "source": [
    "def print_stats(session, feature_batch, label_batch, cost, accuracy):\n",
    "    \"\"\"\n",
    "    Print information about loss and validation accuracy\n",
    "    : session: Current TensorFlow session\n",
    "    : feature_batch: Batch of Numpy image data\n",
    "    : label_batch: Batch of Numpy label data\n",
    "    : cost: TensorFlow cost function\n",
    "    : accuracy: TensorFlow accuracy function\n",
    "    \"\"\"\n",
    "    # TODO: Implement Function\n",
    "    loss = session.run(cost, feed_dict={x: feature_batch, y: label_batch, keep_prob: 1.})\n",
    "    acc = session.run(accuracy, feed_dict={x: valid_features, y: valid_labels, keep_prob: 1.})\n",
    "    print(\"Loss: {:.5f}  Validation Accuracy: {:.5f}\".format(loss, acc))"
   ]
  },
  {
   "cell_type": "markdown",
   "metadata": {
    "deletable": true,
    "editable": true
   },
   "source": [
    "### Hyperparameters\n",
    "Tune the following parameters:\n",
    "* Set `epochs` to the number of iterations until the network stops learning or start overfitting\n",
    "* Set `batch_size` to the highest number that your machine has memory for.  Most people set them to common sizes of memory:\n",
    " * 64\n",
    " * 128\n",
    " * 256\n",
    " * ...\n",
    "* Set `keep_probability` to the probability of keeping a node using dropout"
   ]
  },
  {
   "cell_type": "code",
   "execution_count": 28,
   "metadata": {
    "collapsed": true,
    "deletable": true,
    "editable": true
   },
   "outputs": [],
   "source": [
    "# TODO: Tune Parameters\n",
    "epochs = 50\n",
    "batch_size = 128\n",
    "keep_probability = 0.6"
   ]
  },
  {
   "cell_type": "markdown",
   "metadata": {
    "deletable": true,
    "editable": true
   },
   "source": [
    "### Train on a Single CIFAR-10 Batch\n",
    "Instead of training the neural network on all the CIFAR-10 batches of data, let's use a single batch. This should save time while you iterate on the model to get a better accuracy.  Once the final validation accuracy is 50% or greater, run the model on all the data in the next section."
   ]
  },
  {
   "cell_type": "code",
   "execution_count": 34,
   "metadata": {
    "collapsed": false,
    "deletable": true,
    "editable": true
   },
   "outputs": [
    {
     "name": "stdout",
     "output_type": "stream",
     "text": [
      "Checking the Training on a Single Batch...\n",
      "Epoch  1, CIFAR-10 Batch 1:  Loss: 2.24350  Validation Accuracy: 0.19300\n",
      "Epoch  2, CIFAR-10 Batch 1:  Loss: 2.09614  Validation Accuracy: 0.31560\n",
      "Epoch  3, CIFAR-10 Batch 1:  Loss: 1.97875  Validation Accuracy: 0.35920\n",
      "Epoch  4, CIFAR-10 Batch 1:  Loss: 1.86992  Validation Accuracy: 0.38820\n",
      "Epoch  5, CIFAR-10 Batch 1:  Loss: 1.79723  Validation Accuracy: 0.40940\n",
      "Epoch  6, CIFAR-10 Batch 1:  Loss: 1.74488  Validation Accuracy: 0.42440\n",
      "Epoch  7, CIFAR-10 Batch 1:  Loss: 1.69379  Validation Accuracy: 0.43540\n",
      "Epoch  8, CIFAR-10 Batch 1:  Loss: 1.64265  Validation Accuracy: 0.44620\n",
      "Epoch  9, CIFAR-10 Batch 1:  Loss: 1.60065  Validation Accuracy: 0.45120\n",
      "Epoch 10, CIFAR-10 Batch 1:  Loss: 1.56698  Validation Accuracy: 0.45840\n",
      "Epoch 11, CIFAR-10 Batch 1:  Loss: 1.51538  Validation Accuracy: 0.46080\n",
      "Epoch 12, CIFAR-10 Batch 1:  Loss: 1.50566  Validation Accuracy: 0.46460\n",
      "Epoch 13, CIFAR-10 Batch 1:  Loss: 1.47688  Validation Accuracy: 0.46980\n",
      "Epoch 14, CIFAR-10 Batch 1:  Loss: 1.46095  Validation Accuracy: 0.47340\n",
      "Epoch 15, CIFAR-10 Batch 1:  Loss: 1.42539  Validation Accuracy: 0.48400\n",
      "Epoch 16, CIFAR-10 Batch 1:  Loss: 1.37443  Validation Accuracy: 0.49040\n",
      "Epoch 17, CIFAR-10 Batch 1:  Loss: 1.31904  Validation Accuracy: 0.49480\n",
      "Epoch 18, CIFAR-10 Batch 1:  Loss: 1.27200  Validation Accuracy: 0.50040\n",
      "Epoch 19, CIFAR-10 Batch 1:  Loss: 1.23681  Validation Accuracy: 0.50460\n",
      "Epoch 20, CIFAR-10 Batch 1:  Loss: 1.23071  Validation Accuracy: 0.50940\n",
      "Epoch 21, CIFAR-10 Batch 1:  Loss: 1.19341  Validation Accuracy: 0.51220\n",
      "Epoch 22, CIFAR-10 Batch 1:  Loss: 1.17841  Validation Accuracy: 0.51600\n",
      "Epoch 23, CIFAR-10 Batch 1:  Loss: 1.16446  Validation Accuracy: 0.51560\n",
      "Epoch 24, CIFAR-10 Batch 1:  Loss: 1.16071  Validation Accuracy: 0.51960\n",
      "Epoch 25, CIFAR-10 Batch 1:  Loss: 1.16309  Validation Accuracy: 0.52680\n",
      "Epoch 26, CIFAR-10 Batch 1:  Loss: 1.14606  Validation Accuracy: 0.52360\n",
      "Epoch 27, CIFAR-10 Batch 1:  Loss: 1.12131  Validation Accuracy: 0.53100\n",
      "Epoch 28, CIFAR-10 Batch 1:  Loss: 1.11905  Validation Accuracy: 0.53000\n",
      "Epoch 29, CIFAR-10 Batch 1:  Loss: 1.09710  Validation Accuracy: 0.53940\n",
      "Epoch 30, CIFAR-10 Batch 1:  Loss: 1.07085  Validation Accuracy: 0.53280\n",
      "Epoch 31, CIFAR-10 Batch 1:  Loss: 1.07406  Validation Accuracy: 0.53560\n",
      "Epoch 32, CIFAR-10 Batch 1:  Loss: 1.02529  Validation Accuracy: 0.53800\n",
      "Epoch 33, CIFAR-10 Batch 1:  Loss: 1.04096  Validation Accuracy: 0.54200\n",
      "Epoch 34, CIFAR-10 Batch 1:  Loss: 1.02475  Validation Accuracy: 0.53880\n",
      "Epoch 35, CIFAR-10 Batch 1:  Loss: 0.98836  Validation Accuracy: 0.54220\n",
      "Epoch 36, CIFAR-10 Batch 1:  Loss: 0.97033  Validation Accuracy: 0.54660\n",
      "Epoch 37, CIFAR-10 Batch 1:  Loss: 0.95151  Validation Accuracy: 0.54280\n",
      "Epoch 38, CIFAR-10 Batch 1:  Loss: 0.95299  Validation Accuracy: 0.54680\n",
      "Epoch 39, CIFAR-10 Batch 1:  Loss: 0.93590  Validation Accuracy: 0.55180\n",
      "Epoch 40, CIFAR-10 Batch 1:  Loss: 0.90805  Validation Accuracy: 0.54980\n",
      "Epoch 41, CIFAR-10 Batch 1:  Loss: 0.87852  Validation Accuracy: 0.55260\n",
      "Epoch 42, CIFAR-10 Batch 1:  Loss: 0.87317  Validation Accuracy: 0.54780\n",
      "Epoch 43, CIFAR-10 Batch 1:  Loss: 0.83550  Validation Accuracy: 0.55620\n",
      "Epoch 44, CIFAR-10 Batch 1:  Loss: 0.83732  Validation Accuracy: 0.55120\n",
      "Epoch 45, CIFAR-10 Batch 1:  Loss: 0.80937  Validation Accuracy: 0.55300\n",
      "Epoch 46, CIFAR-10 Batch 1:  Loss: 0.80296  Validation Accuracy: 0.55180\n",
      "Epoch 47, CIFAR-10 Batch 1:  Loss: 0.79094  Validation Accuracy: 0.55140\n",
      "Epoch 48, CIFAR-10 Batch 1:  Loss: 0.77729  Validation Accuracy: 0.55260\n",
      "Epoch 49, CIFAR-10 Batch 1:  Loss: 0.74945  Validation Accuracy: 0.55280\n",
      "Epoch 50, CIFAR-10 Batch 1:  Loss: 0.74743  Validation Accuracy: 0.54980\n"
     ]
    }
   ],
   "source": [
    "\"\"\"\n",
    "DON'T MODIFY ANYTHING IN THIS CELL\n",
    "\"\"\"\n",
    "print('Checking the Training on a Single Batch...')\n",
    "with tf.Session() as sess:\n",
    "    # Initializing the variables\n",
    "    sess.run(tf.global_variables_initializer())\n",
    "    \n",
    "    # Training cycle\n",
    "    for epoch in range(epochs):\n",
    "        batch_i = 1\n",
    "        for batch_features, batch_labels in helper.load_preprocess_training_batch(batch_i, batch_size):\n",
    "            train_neural_network(sess, optimizer, keep_probability, batch_features, batch_labels)\n",
    "        print('Epoch {:>2}, CIFAR-10 Batch {}:  '.format(epoch + 1, batch_i), end='')\n",
    "        print_stats(sess, batch_features, batch_labels, cost, accuracy)"
   ]
  },
  {
   "cell_type": "markdown",
   "metadata": {
    "deletable": true,
    "editable": true
   },
   "source": [
    "### Fully Train the Model\n",
    "Now that you got a good accuracy with a single CIFAR-10 batch, try it with all five batches."
   ]
  },
  {
   "cell_type": "code",
   "execution_count": 35,
   "metadata": {
    "collapsed": false,
    "deletable": true,
    "editable": true
   },
   "outputs": [
    {
     "name": "stdout",
     "output_type": "stream",
     "text": [
      "Training...\n",
      "Epoch  1, CIFAR-10 Batch 1:  Loss: 2.22518  Validation Accuracy: 0.29540\n",
      "Epoch  1, CIFAR-10 Batch 2:  Loss: 1.87370  Validation Accuracy: 0.34940\n",
      "Epoch  1, CIFAR-10 Batch 3:  Loss: 1.53588  Validation Accuracy: 0.40540\n",
      "Epoch  1, CIFAR-10 Batch 4:  Loss: 1.55322  Validation Accuracy: 0.43460\n",
      "Epoch  1, CIFAR-10 Batch 5:  Loss: 1.52712  Validation Accuracy: 0.46020\n",
      "Epoch  2, CIFAR-10 Batch 1:  Loss: 1.55023  Validation Accuracy: 0.47200\n",
      "Epoch  2, CIFAR-10 Batch 2:  Loss: 1.33650  Validation Accuracy: 0.48100\n",
      "Epoch  2, CIFAR-10 Batch 3:  Loss: 1.20809  Validation Accuracy: 0.49060\n",
      "Epoch  2, CIFAR-10 Batch 4:  Loss: 1.41167  Validation Accuracy: 0.49540\n",
      "Epoch  2, CIFAR-10 Batch 5:  Loss: 1.42037  Validation Accuracy: 0.50960\n",
      "Epoch  3, CIFAR-10 Batch 1:  Loss: 1.46268  Validation Accuracy: 0.51060\n",
      "Epoch  3, CIFAR-10 Batch 2:  Loss: 1.25646  Validation Accuracy: 0.51000\n",
      "Epoch  3, CIFAR-10 Batch 3:  Loss: 1.10287  Validation Accuracy: 0.51200\n",
      "Epoch  3, CIFAR-10 Batch 4:  Loss: 1.30410  Validation Accuracy: 0.52200\n",
      "Epoch  3, CIFAR-10 Batch 5:  Loss: 1.35252  Validation Accuracy: 0.52700\n",
      "Epoch  4, CIFAR-10 Batch 1:  Loss: 1.40838  Validation Accuracy: 0.53580\n",
      "Epoch  4, CIFAR-10 Batch 2:  Loss: 1.20937  Validation Accuracy: 0.53720\n",
      "Epoch  4, CIFAR-10 Batch 3:  Loss: 0.96578  Validation Accuracy: 0.53220\n",
      "Epoch  4, CIFAR-10 Batch 4:  Loss: 1.22772  Validation Accuracy: 0.54180\n",
      "Epoch  4, CIFAR-10 Batch 5:  Loss: 1.28171  Validation Accuracy: 0.54060\n",
      "Epoch  5, CIFAR-10 Batch 1:  Loss: 1.35499  Validation Accuracy: 0.54100\n",
      "Epoch  5, CIFAR-10 Batch 2:  Loss: 1.18484  Validation Accuracy: 0.55040\n",
      "Epoch  5, CIFAR-10 Batch 3:  Loss: 0.87724  Validation Accuracy: 0.56380\n",
      "Epoch  5, CIFAR-10 Batch 4:  Loss: 1.14462  Validation Accuracy: 0.55900\n",
      "Epoch  5, CIFAR-10 Batch 5:  Loss: 1.20423  Validation Accuracy: 0.56120\n",
      "Epoch  6, CIFAR-10 Batch 1:  Loss: 1.28632  Validation Accuracy: 0.56800\n",
      "Epoch  6, CIFAR-10 Batch 2:  Loss: 1.10403  Validation Accuracy: 0.57300\n",
      "Epoch  6, CIFAR-10 Batch 3:  Loss: 0.84345  Validation Accuracy: 0.57140\n",
      "Epoch  6, CIFAR-10 Batch 4:  Loss: 1.08673  Validation Accuracy: 0.56800\n",
      "Epoch  6, CIFAR-10 Batch 5:  Loss: 1.14447  Validation Accuracy: 0.57100\n",
      "Epoch  7, CIFAR-10 Batch 1:  Loss: 1.25029  Validation Accuracy: 0.57920\n",
      "Epoch  7, CIFAR-10 Batch 2:  Loss: 1.07310  Validation Accuracy: 0.57960\n",
      "Epoch  7, CIFAR-10 Batch 3:  Loss: 0.83379  Validation Accuracy: 0.58420\n",
      "Epoch  7, CIFAR-10 Batch 4:  Loss: 1.02297  Validation Accuracy: 0.58720\n",
      "Epoch  7, CIFAR-10 Batch 5:  Loss: 1.07492  Validation Accuracy: 0.58060\n",
      "Epoch  8, CIFAR-10 Batch 1:  Loss: 1.21329  Validation Accuracy: 0.59000\n",
      "Epoch  8, CIFAR-10 Batch 2:  Loss: 1.01039  Validation Accuracy: 0.59200\n",
      "Epoch  8, CIFAR-10 Batch 3:  Loss: 0.81157  Validation Accuracy: 0.59400\n",
      "Epoch  8, CIFAR-10 Batch 4:  Loss: 0.97171  Validation Accuracy: 0.59020\n",
      "Epoch  8, CIFAR-10 Batch 5:  Loss: 1.01528  Validation Accuracy: 0.58860\n",
      "Epoch  9, CIFAR-10 Batch 1:  Loss: 1.21863  Validation Accuracy: 0.59900\n",
      "Epoch  9, CIFAR-10 Batch 2:  Loss: 0.96206  Validation Accuracy: 0.59860\n",
      "Epoch  9, CIFAR-10 Batch 3:  Loss: 0.78296  Validation Accuracy: 0.60000\n",
      "Epoch  9, CIFAR-10 Batch 4:  Loss: 0.92925  Validation Accuracy: 0.59760\n",
      "Epoch  9, CIFAR-10 Batch 5:  Loss: 0.95090  Validation Accuracy: 0.59400\n",
      "Epoch 10, CIFAR-10 Batch 1:  Loss: 1.11884  Validation Accuracy: 0.60900\n",
      "Epoch 10, CIFAR-10 Batch 2:  Loss: 0.91289  Validation Accuracy: 0.60220\n",
      "Epoch 10, CIFAR-10 Batch 3:  Loss: 0.76022  Validation Accuracy: 0.60780\n",
      "Epoch 10, CIFAR-10 Batch 4:  Loss: 0.87604  Validation Accuracy: 0.59600\n",
      "Epoch 10, CIFAR-10 Batch 5:  Loss: 0.92128  Validation Accuracy: 0.60040\n",
      "Epoch 11, CIFAR-10 Batch 1:  Loss: 1.11380  Validation Accuracy: 0.61240\n",
      "Epoch 11, CIFAR-10 Batch 2:  Loss: 0.88579  Validation Accuracy: 0.60480\n",
      "Epoch 11, CIFAR-10 Batch 3:  Loss: 0.73496  Validation Accuracy: 0.61660\n",
      "Epoch 11, CIFAR-10 Batch 4:  Loss: 0.85057  Validation Accuracy: 0.60580\n",
      "Epoch 11, CIFAR-10 Batch 5:  Loss: 0.91444  Validation Accuracy: 0.60940\n",
      "Epoch 12, CIFAR-10 Batch 1:  Loss: 1.06983  Validation Accuracy: 0.61600\n",
      "Epoch 12, CIFAR-10 Batch 2:  Loss: 0.83287  Validation Accuracy: 0.60800\n",
      "Epoch 12, CIFAR-10 Batch 3:  Loss: 0.70834  Validation Accuracy: 0.62340\n",
      "Epoch 12, CIFAR-10 Batch 4:  Loss: 0.81592  Validation Accuracy: 0.61000\n",
      "Epoch 12, CIFAR-10 Batch 5:  Loss: 0.87184  Validation Accuracy: 0.60920\n",
      "Epoch 13, CIFAR-10 Batch 1:  Loss: 1.04653  Validation Accuracy: 0.61980\n",
      "Epoch 13, CIFAR-10 Batch 2:  Loss: 0.80706  Validation Accuracy: 0.61360\n",
      "Epoch 13, CIFAR-10 Batch 3:  Loss: 0.67450  Validation Accuracy: 0.62940\n",
      "Epoch 13, CIFAR-10 Batch 4:  Loss: 0.78081  Validation Accuracy: 0.61640\n",
      "Epoch 13, CIFAR-10 Batch 5:  Loss: 0.82909  Validation Accuracy: 0.61760\n",
      "Epoch 14, CIFAR-10 Batch 1:  Loss: 1.01741  Validation Accuracy: 0.62000\n",
      "Epoch 14, CIFAR-10 Batch 2:  Loss: 0.80182  Validation Accuracy: 0.61920\n",
      "Epoch 14, CIFAR-10 Batch 3:  Loss: 0.65330  Validation Accuracy: 0.62440\n",
      "Epoch 14, CIFAR-10 Batch 4:  Loss: 0.76247  Validation Accuracy: 0.61840\n",
      "Epoch 14, CIFAR-10 Batch 5:  Loss: 0.79796  Validation Accuracy: 0.61000\n",
      "Epoch 15, CIFAR-10 Batch 1:  Loss: 1.00466  Validation Accuracy: 0.62940\n",
      "Epoch 15, CIFAR-10 Batch 2:  Loss: 0.74321  Validation Accuracy: 0.61860\n",
      "Epoch 15, CIFAR-10 Batch 3:  Loss: 0.63329  Validation Accuracy: 0.63120\n",
      "Epoch 15, CIFAR-10 Batch 4:  Loss: 0.74482  Validation Accuracy: 0.61660\n",
      "Epoch 15, CIFAR-10 Batch 5:  Loss: 0.76418  Validation Accuracy: 0.61580\n",
      "Epoch 16, CIFAR-10 Batch 1:  Loss: 0.99883  Validation Accuracy: 0.62280\n",
      "Epoch 16, CIFAR-10 Batch 2:  Loss: 0.74512  Validation Accuracy: 0.62140\n",
      "Epoch 16, CIFAR-10 Batch 3:  Loss: 0.60090  Validation Accuracy: 0.63060\n",
      "Epoch 16, CIFAR-10 Batch 4:  Loss: 0.74922  Validation Accuracy: 0.62240\n",
      "Epoch 16, CIFAR-10 Batch 5:  Loss: 0.74632  Validation Accuracy: 0.62000\n",
      "Epoch 17, CIFAR-10 Batch 1:  Loss: 0.97591  Validation Accuracy: 0.63140\n",
      "Epoch 17, CIFAR-10 Batch 2:  Loss: 0.71140  Validation Accuracy: 0.62400\n",
      "Epoch 17, CIFAR-10 Batch 3:  Loss: 0.58119  Validation Accuracy: 0.63200\n",
      "Epoch 17, CIFAR-10 Batch 4:  Loss: 0.71159  Validation Accuracy: 0.62620\n",
      "Epoch 17, CIFAR-10 Batch 5:  Loss: 0.72748  Validation Accuracy: 0.62720\n",
      "Epoch 18, CIFAR-10 Batch 1:  Loss: 0.94274  Validation Accuracy: 0.63700\n",
      "Epoch 18, CIFAR-10 Batch 2:  Loss: 0.69023  Validation Accuracy: 0.63060\n",
      "Epoch 18, CIFAR-10 Batch 3:  Loss: 0.56740  Validation Accuracy: 0.63020\n",
      "Epoch 18, CIFAR-10 Batch 4:  Loss: 0.69035  Validation Accuracy: 0.62880\n",
      "Epoch 18, CIFAR-10 Batch 5:  Loss: 0.67870  Validation Accuracy: 0.63520\n",
      "Epoch 19, CIFAR-10 Batch 1:  Loss: 0.88449  Validation Accuracy: 0.64020\n",
      "Epoch 19, CIFAR-10 Batch 2:  Loss: 0.70047  Validation Accuracy: 0.63180\n",
      "Epoch 19, CIFAR-10 Batch 3:  Loss: 0.54455  Validation Accuracy: 0.64040\n",
      "Epoch 19, CIFAR-10 Batch 4:  Loss: 0.69068  Validation Accuracy: 0.63420\n",
      "Epoch 19, CIFAR-10 Batch 5:  Loss: 0.66171  Validation Accuracy: 0.63520\n",
      "Epoch 20, CIFAR-10 Batch 1:  Loss: 0.87701  Validation Accuracy: 0.64580\n",
      "Epoch 20, CIFAR-10 Batch 2:  Loss: 0.68744  Validation Accuracy: 0.63520\n",
      "Epoch 20, CIFAR-10 Batch 3:  Loss: 0.54026  Validation Accuracy: 0.63740\n",
      "Epoch 20, CIFAR-10 Batch 4:  Loss: 0.68512  Validation Accuracy: 0.64100\n",
      "Epoch 20, CIFAR-10 Batch 5:  Loss: 0.63470  Validation Accuracy: 0.64080\n",
      "Epoch 21, CIFAR-10 Batch 1:  Loss: 0.84965  Validation Accuracy: 0.64400\n",
      "Epoch 21, CIFAR-10 Batch 2:  Loss: 0.66355  Validation Accuracy: 0.63160\n",
      "Epoch 21, CIFAR-10 Batch 3:  Loss: 0.51342  Validation Accuracy: 0.63840\n",
      "Epoch 21, CIFAR-10 Batch 4:  Loss: 0.68959  Validation Accuracy: 0.64320\n",
      "Epoch 21, CIFAR-10 Batch 5:  Loss: 0.62552  Validation Accuracy: 0.63720\n",
      "Epoch 22, CIFAR-10 Batch 1:  Loss: 0.81537  Validation Accuracy: 0.64660\n",
      "Epoch 22, CIFAR-10 Batch 2:  Loss: 0.67251  Validation Accuracy: 0.63920\n",
      "Epoch 22, CIFAR-10 Batch 3:  Loss: 0.51038  Validation Accuracy: 0.63680\n",
      "Epoch 22, CIFAR-10 Batch 4:  Loss: 0.70654  Validation Accuracy: 0.63760\n",
      "Epoch 22, CIFAR-10 Batch 5:  Loss: 0.60692  Validation Accuracy: 0.65080\n",
      "Epoch 23, CIFAR-10 Batch 1:  Loss: 0.79002  Validation Accuracy: 0.64780\n",
      "Epoch 23, CIFAR-10 Batch 2:  Loss: 0.64743  Validation Accuracy: 0.64280\n",
      "Epoch 23, CIFAR-10 Batch 3:  Loss: 0.50318  Validation Accuracy: 0.63720\n",
      "Epoch 23, CIFAR-10 Batch 4:  Loss: 0.66956  Validation Accuracy: 0.64240\n",
      "Epoch 23, CIFAR-10 Batch 5:  Loss: 0.59620  Validation Accuracy: 0.64400\n",
      "Epoch 24, CIFAR-10 Batch 1:  Loss: 0.77386  Validation Accuracy: 0.64920\n",
      "Epoch 24, CIFAR-10 Batch 2:  Loss: 0.61420  Validation Accuracy: 0.64300\n",
      "Epoch 24, CIFAR-10 Batch 3:  Loss: 0.47325  Validation Accuracy: 0.64120\n",
      "Epoch 24, CIFAR-10 Batch 4:  Loss: 0.64649  Validation Accuracy: 0.64820\n",
      "Epoch 24, CIFAR-10 Batch 5:  Loss: 0.60733  Validation Accuracy: 0.64080\n",
      "Epoch 25, CIFAR-10 Batch 1:  Loss: 0.74861  Validation Accuracy: 0.64740\n",
      "Epoch 25, CIFAR-10 Batch 2:  Loss: 0.61278  Validation Accuracy: 0.64520\n",
      "Epoch 25, CIFAR-10 Batch 3:  Loss: 0.47323  Validation Accuracy: 0.63840\n",
      "Epoch 25, CIFAR-10 Batch 4:  Loss: 0.65185  Validation Accuracy: 0.65020\n",
      "Epoch 25, CIFAR-10 Batch 5:  Loss: 0.56997  Validation Accuracy: 0.65180\n",
      "Epoch 26, CIFAR-10 Batch 1:  Loss: 0.73376  Validation Accuracy: 0.65200\n",
      "Epoch 26, CIFAR-10 Batch 2:  Loss: 0.61427  Validation Accuracy: 0.64900\n",
      "Epoch 26, CIFAR-10 Batch 3:  Loss: 0.46322  Validation Accuracy: 0.64240\n",
      "Epoch 26, CIFAR-10 Batch 4:  Loss: 0.63348  Validation Accuracy: 0.64960\n",
      "Epoch 26, CIFAR-10 Batch 5:  Loss: 0.55966  Validation Accuracy: 0.64480\n",
      "Epoch 27, CIFAR-10 Batch 1:  Loss: 0.71932  Validation Accuracy: 0.65080\n",
      "Epoch 27, CIFAR-10 Batch 2:  Loss: 0.61526  Validation Accuracy: 0.65200\n",
      "Epoch 27, CIFAR-10 Batch 3:  Loss: 0.46015  Validation Accuracy: 0.64100\n",
      "Epoch 27, CIFAR-10 Batch 4:  Loss: 0.67670  Validation Accuracy: 0.64380\n",
      "Epoch 27, CIFAR-10 Batch 5:  Loss: 0.55031  Validation Accuracy: 0.64780\n",
      "Epoch 28, CIFAR-10 Batch 1:  Loss: 0.68627  Validation Accuracy: 0.65060\n",
      "Epoch 28, CIFAR-10 Batch 2:  Loss: 0.57451  Validation Accuracy: 0.64600\n",
      "Epoch 28, CIFAR-10 Batch 3:  Loss: 0.44510  Validation Accuracy: 0.64540\n",
      "Epoch 28, CIFAR-10 Batch 4:  Loss: 0.62711  Validation Accuracy: 0.65660\n",
      "Epoch 28, CIFAR-10 Batch 5:  Loss: 0.54717  Validation Accuracy: 0.65020\n",
      "Epoch 29, CIFAR-10 Batch 1:  Loss: 0.65594  Validation Accuracy: 0.65440\n",
      "Epoch 29, CIFAR-10 Batch 2:  Loss: 0.59825  Validation Accuracy: 0.65100\n",
      "Epoch 29, CIFAR-10 Batch 3:  Loss: 0.44920  Validation Accuracy: 0.63720\n",
      "Epoch 29, CIFAR-10 Batch 4:  Loss: 0.59822  Validation Accuracy: 0.65020\n",
      "Epoch 29, CIFAR-10 Batch 5:  Loss: 0.52701  Validation Accuracy: 0.65260\n",
      "Epoch 30, CIFAR-10 Batch 1:  Loss: 0.68656  Validation Accuracy: 0.64940\n",
      "Epoch 30, CIFAR-10 Batch 2:  Loss: 0.60875  Validation Accuracy: 0.65040\n",
      "Epoch 30, CIFAR-10 Batch 3:  Loss: 0.41269  Validation Accuracy: 0.64580\n",
      "Epoch 30, CIFAR-10 Batch 4:  Loss: 0.58859  Validation Accuracy: 0.65740\n",
      "Epoch 30, CIFAR-10 Batch 5:  Loss: 0.50364  Validation Accuracy: 0.65460\n",
      "Epoch 31, CIFAR-10 Batch 1:  Loss: 0.64103  Validation Accuracy: 0.64640\n",
      "Epoch 31, CIFAR-10 Batch 2:  Loss: 0.58167  Validation Accuracy: 0.64680\n",
      "Epoch 31, CIFAR-10 Batch 3:  Loss: 0.39861  Validation Accuracy: 0.65420\n",
      "Epoch 31, CIFAR-10 Batch 4:  Loss: 0.58997  Validation Accuracy: 0.65580\n",
      "Epoch 31, CIFAR-10 Batch 5:  Loss: 0.48985  Validation Accuracy: 0.65320\n",
      "Epoch 32, CIFAR-10 Batch 1:  Loss: 0.60133  Validation Accuracy: 0.65280\n",
      "Epoch 32, CIFAR-10 Batch 2:  Loss: 0.55147  Validation Accuracy: 0.65500\n",
      "Epoch 32, CIFAR-10 Batch 3:  Loss: 0.41412  Validation Accuracy: 0.64100\n",
      "Epoch 32, CIFAR-10 Batch 4:  Loss: 0.54628  Validation Accuracy: 0.65940\n",
      "Epoch 32, CIFAR-10 Batch 5:  Loss: 0.48418  Validation Accuracy: 0.65420\n",
      "Epoch 33, CIFAR-10 Batch 1:  Loss: 0.61189  Validation Accuracy: 0.65060\n",
      "Epoch 33, CIFAR-10 Batch 2:  Loss: 0.53782  Validation Accuracy: 0.65720\n",
      "Epoch 33, CIFAR-10 Batch 3:  Loss: 0.38091  Validation Accuracy: 0.65780\n",
      "Epoch 33, CIFAR-10 Batch 4:  Loss: 0.52794  Validation Accuracy: 0.66500\n",
      "Epoch 33, CIFAR-10 Batch 5:  Loss: 0.44788  Validation Accuracy: 0.66120\n",
      "Epoch 34, CIFAR-10 Batch 1:  Loss: 0.58023  Validation Accuracy: 0.65740\n",
      "Epoch 34, CIFAR-10 Batch 2:  Loss: 0.54437  Validation Accuracy: 0.65140\n",
      "Epoch 34, CIFAR-10 Batch 3:  Loss: 0.35390  Validation Accuracy: 0.65600\n",
      "Epoch 34, CIFAR-10 Batch 4:  Loss: 0.50344  Validation Accuracy: 0.65580\n",
      "Epoch 34, CIFAR-10 Batch 5:  Loss: 0.43569  Validation Accuracy: 0.66600\n",
      "Epoch 35, CIFAR-10 Batch 1:  Loss: 0.54123  Validation Accuracy: 0.65020\n",
      "Epoch 35, CIFAR-10 Batch 2:  Loss: 0.54814  Validation Accuracy: 0.65240\n",
      "Epoch 35, CIFAR-10 Batch 3:  Loss: 0.35561  Validation Accuracy: 0.65240\n",
      "Epoch 35, CIFAR-10 Batch 4:  Loss: 0.49707  Validation Accuracy: 0.66140\n",
      "Epoch 35, CIFAR-10 Batch 5:  Loss: 0.42042  Validation Accuracy: 0.66560\n",
      "Epoch 36, CIFAR-10 Batch 1:  Loss: 0.54453  Validation Accuracy: 0.64940\n",
      "Epoch 36, CIFAR-10 Batch 2:  Loss: 0.53435  Validation Accuracy: 0.64200\n",
      "Epoch 36, CIFAR-10 Batch 3:  Loss: 0.34768  Validation Accuracy: 0.65240\n",
      "Epoch 36, CIFAR-10 Batch 4:  Loss: 0.50267  Validation Accuracy: 0.65960\n",
      "Epoch 36, CIFAR-10 Batch 5:  Loss: 0.41355  Validation Accuracy: 0.66240\n",
      "Epoch 37, CIFAR-10 Batch 1:  Loss: 0.50946  Validation Accuracy: 0.65960\n",
      "Epoch 37, CIFAR-10 Batch 2:  Loss: 0.46679  Validation Accuracy: 0.66640\n",
      "Epoch 37, CIFAR-10 Batch 3:  Loss: 0.33287  Validation Accuracy: 0.65840\n",
      "Epoch 37, CIFAR-10 Batch 4:  Loss: 0.47087  Validation Accuracy: 0.66600\n",
      "Epoch 37, CIFAR-10 Batch 5:  Loss: 0.41576  Validation Accuracy: 0.66380\n",
      "Epoch 38, CIFAR-10 Batch 1:  Loss: 0.46388  Validation Accuracy: 0.66140\n",
      "Epoch 38, CIFAR-10 Batch 2:  Loss: 0.46986  Validation Accuracy: 0.65820\n",
      "Epoch 38, CIFAR-10 Batch 3:  Loss: 0.31023  Validation Accuracy: 0.65720\n",
      "Epoch 38, CIFAR-10 Batch 4:  Loss: 0.44503  Validation Accuracy: 0.66040\n",
      "Epoch 38, CIFAR-10 Batch 5:  Loss: 0.39091  Validation Accuracy: 0.66840\n",
      "Epoch 39, CIFAR-10 Batch 1:  Loss: 0.48778  Validation Accuracy: 0.66060\n",
      "Epoch 39, CIFAR-10 Batch 2:  Loss: 0.46455  Validation Accuracy: 0.65980\n",
      "Epoch 39, CIFAR-10 Batch 3:  Loss: 0.31115  Validation Accuracy: 0.65840\n",
      "Epoch 39, CIFAR-10 Batch 4:  Loss: 0.43384  Validation Accuracy: 0.66040\n",
      "Epoch 39, CIFAR-10 Batch 5:  Loss: 0.39415  Validation Accuracy: 0.66180\n",
      "Epoch 40, CIFAR-10 Batch 1:  Loss: 0.47069  Validation Accuracy: 0.65580\n",
      "Epoch 40, CIFAR-10 Batch 2:  Loss: 0.44364  Validation Accuracy: 0.66020\n",
      "Epoch 40, CIFAR-10 Batch 3:  Loss: 0.30578  Validation Accuracy: 0.66120\n",
      "Epoch 40, CIFAR-10 Batch 4:  Loss: 0.42311  Validation Accuracy: 0.65960\n",
      "Epoch 40, CIFAR-10 Batch 5:  Loss: 0.37675  Validation Accuracy: 0.66340\n",
      "Epoch 41, CIFAR-10 Batch 1:  Loss: 0.45102  Validation Accuracy: 0.66440\n",
      "Epoch 41, CIFAR-10 Batch 2:  Loss: 0.42350  Validation Accuracy: 0.65820\n",
      "Epoch 41, CIFAR-10 Batch 3:  Loss: 0.30590  Validation Accuracy: 0.66540\n",
      "Epoch 41, CIFAR-10 Batch 4:  Loss: 0.42597  Validation Accuracy: 0.66160\n",
      "Epoch 41, CIFAR-10 Batch 5:  Loss: 0.39447  Validation Accuracy: 0.66260\n",
      "Epoch 42, CIFAR-10 Batch 1:  Loss: 0.42302  Validation Accuracy: 0.65760\n",
      "Epoch 42, CIFAR-10 Batch 2:  Loss: 0.39821  Validation Accuracy: 0.65740\n",
      "Epoch 42, CIFAR-10 Batch 3:  Loss: 0.28473  Validation Accuracy: 0.66320\n",
      "Epoch 42, CIFAR-10 Batch 4:  Loss: 0.41259  Validation Accuracy: 0.65640\n",
      "Epoch 42, CIFAR-10 Batch 5:  Loss: 0.38701  Validation Accuracy: 0.66260\n",
      "Epoch 43, CIFAR-10 Batch 1:  Loss: 0.41289  Validation Accuracy: 0.66520\n",
      "Epoch 43, CIFAR-10 Batch 2:  Loss: 0.40129  Validation Accuracy: 0.66120\n",
      "Epoch 43, CIFAR-10 Batch 3:  Loss: 0.30194  Validation Accuracy: 0.66100\n",
      "Epoch 43, CIFAR-10 Batch 4:  Loss: 0.41684  Validation Accuracy: 0.66500\n",
      "Epoch 43, CIFAR-10 Batch 5:  Loss: 0.37478  Validation Accuracy: 0.66200\n",
      "Epoch 44, CIFAR-10 Batch 1:  Loss: 0.42511  Validation Accuracy: 0.66200\n",
      "Epoch 44, CIFAR-10 Batch 2:  Loss: 0.39275  Validation Accuracy: 0.66360\n",
      "Epoch 44, CIFAR-10 Batch 3:  Loss: 0.29128  Validation Accuracy: 0.65380\n",
      "Epoch 44, CIFAR-10 Batch 4:  Loss: 0.40670  Validation Accuracy: 0.66420\n",
      "Epoch 44, CIFAR-10 Batch 5:  Loss: 0.37375  Validation Accuracy: 0.66540\n",
      "Epoch 45, CIFAR-10 Batch 1:  Loss: 0.37048  Validation Accuracy: 0.66480\n",
      "Epoch 45, CIFAR-10 Batch 2:  Loss: 0.39128  Validation Accuracy: 0.66560\n",
      "Epoch 45, CIFAR-10 Batch 3:  Loss: 0.26994  Validation Accuracy: 0.66160\n",
      "Epoch 45, CIFAR-10 Batch 4:  Loss: 0.38861  Validation Accuracy: 0.66140\n",
      "Epoch 45, CIFAR-10 Batch 5:  Loss: 0.36362  Validation Accuracy: 0.66660\n",
      "Epoch 46, CIFAR-10 Batch 1:  Loss: 0.39169  Validation Accuracy: 0.65400\n",
      "Epoch 46, CIFAR-10 Batch 2:  Loss: 0.38419  Validation Accuracy: 0.66820\n",
      "Epoch 46, CIFAR-10 Batch 3:  Loss: 0.28157  Validation Accuracy: 0.65680\n",
      "Epoch 46, CIFAR-10 Batch 4:  Loss: 0.38648  Validation Accuracy: 0.66080\n",
      "Epoch 46, CIFAR-10 Batch 5:  Loss: 0.37046  Validation Accuracy: 0.67320\n",
      "Epoch 47, CIFAR-10 Batch 1:  Loss: 0.39650  Validation Accuracy: 0.66880\n",
      "Epoch 47, CIFAR-10 Batch 2:  Loss: 0.36525  Validation Accuracy: 0.66660\n",
      "Epoch 47, CIFAR-10 Batch 3:  Loss: 0.26735  Validation Accuracy: 0.66320\n",
      "Epoch 47, CIFAR-10 Batch 4:  Loss: 0.36524  Validation Accuracy: 0.66900\n",
      "Epoch 47, CIFAR-10 Batch 5:  Loss: 0.36003  Validation Accuracy: 0.66960\n",
      "Epoch 48, CIFAR-10 Batch 1:  Loss: 0.38297  Validation Accuracy: 0.66680\n",
      "Epoch 48, CIFAR-10 Batch 2:  Loss: 0.36196  Validation Accuracy: 0.66420\n",
      "Epoch 48, CIFAR-10 Batch 3:  Loss: 0.27220  Validation Accuracy: 0.65280\n",
      "Epoch 48, CIFAR-10 Batch 4:  Loss: 0.35908  Validation Accuracy: 0.66560\n",
      "Epoch 48, CIFAR-10 Batch 5:  Loss: 0.35218  Validation Accuracy: 0.66400\n",
      "Epoch 49, CIFAR-10 Batch 1:  Loss: 0.36815  Validation Accuracy: 0.66200\n",
      "Epoch 49, CIFAR-10 Batch 2:  Loss: 0.39430  Validation Accuracy: 0.65840\n",
      "Epoch 49, CIFAR-10 Batch 3:  Loss: 0.26296  Validation Accuracy: 0.65800\n",
      "Epoch 49, CIFAR-10 Batch 4:  Loss: 0.36434  Validation Accuracy: 0.66820\n",
      "Epoch 49, CIFAR-10 Batch 5:  Loss: 0.36201  Validation Accuracy: 0.66620\n",
      "Epoch 50, CIFAR-10 Batch 1:  Loss: 0.36038  Validation Accuracy: 0.66560\n",
      "Epoch 50, CIFAR-10 Batch 2:  Loss: 0.33301  Validation Accuracy: 0.66800\n",
      "Epoch 50, CIFAR-10 Batch 3:  Loss: 0.25177  Validation Accuracy: 0.66060\n",
      "Epoch 50, CIFAR-10 Batch 4:  Loss: 0.34380  Validation Accuracy: 0.66640\n",
      "Epoch 50, CIFAR-10 Batch 5:  Loss: 0.32724  Validation Accuracy: 0.66360\n"
     ]
    }
   ],
   "source": [
    "\"\"\"\n",
    "DON'T MODIFY ANYTHING IN THIS CELL\n",
    "\"\"\"\n",
    "save_model_path = './image_classification'\n",
    "\n",
    "print('Training...')\n",
    "with tf.Session() as sess:\n",
    "    # Initializing the variables\n",
    "    sess.run(tf.global_variables_initializer())\n",
    "    \n",
    "    # Training cycle\n",
    "    for epoch in range(epochs):\n",
    "        # Loop over all batches\n",
    "        n_batches = 5\n",
    "        for batch_i in range(1, n_batches + 1):\n",
    "            for batch_features, batch_labels in helper.load_preprocess_training_batch(batch_i, batch_size):\n",
    "                train_neural_network(sess, optimizer, keep_probability, batch_features, batch_labels)\n",
    "            print('Epoch {:>2}, CIFAR-10 Batch {}:  '.format(epoch + 1, batch_i), end='')\n",
    "            print_stats(sess, batch_features, batch_labels, cost, accuracy)\n",
    "            \n",
    "    # Save Model\n",
    "    saver = tf.train.Saver()\n",
    "    save_path = saver.save(sess, save_model_path)"
   ]
  },
  {
   "cell_type": "markdown",
   "metadata": {
    "deletable": true,
    "editable": true
   },
   "source": [
    "# Checkpoint\n",
    "The model has been saved to disk.\n",
    "## Test Model\n",
    "Test your model against the test dataset.  This will be your final accuracy. You should have an accuracy greater than 50%. If you don't, keep tweaking the model architecture and parameters."
   ]
  },
  {
   "cell_type": "code",
   "execution_count": 36,
   "metadata": {
    "collapsed": false,
    "deletable": true,
    "editable": true
   },
   "outputs": [
    {
     "name": "stdout",
     "output_type": "stream",
     "text": [
      "Testing Accuracy: 0.6726661392405063\n",
      "\n"
     ]
    },
    {
     "data": {
      "image/png": "[encoded data removed]",
      "text/plain": [
       "<matplotlib.figure.Figure at 0x7f0371af9f60>"
      ]
     },
     "metadata": {
      "image/png": {
       "height": 319,
       "width": 355
      }
     },
     "output_type": "display_data"
    }
   ],
   "source": [
    "\"\"\"\n",
    "DON'T MODIFY ANYTHING IN THIS CELL\n",
    "\"\"\"\n",
    "%matplotlib inline\n",
    "%config InlineBackend.figure_format = 'retina'\n",
    "\n",
    "import tensorflow as tf\n",
    "import pickle\n",
    "import helper\n",
    "import random\n",
    "\n",
    "# Set batch size if not already set\n",
    "try:\n",
    "    if batch_size:\n",
    "        pass\n",
    "except NameError:\n",
    "    batch_size = 64\n",
    "\n",
    "save_model_path = './image_classification'\n",
    "n_samples = 4\n",
    "top_n_predictions = 3\n",
    "\n",
    "def test_model():\n",
    "    \"\"\"\n",
    "    Test the saved model against the test dataset\n",
    "    \"\"\"\n",
    "\n",
    "    test_features, test_labels = pickle.load(open('preprocess_test.p', mode='rb'))\n",
    "    loaded_graph = tf.Graph()\n",
    "\n",
    "    with tf.Session(graph=loaded_graph) as sess:\n",
    "        # Load model\n",
    "        loader = tf.train.import_meta_graph(save_model_path + '.meta')\n",
    "        loader.restore(sess, save_model_path)\n",
    "\n",
    "        # Get Tensors from loaded model\n",
    "        loaded_x = loaded_graph.get_tensor_by_name('x:0')\n",
    "        loaded_y = loaded_graph.get_tensor_by_name('y:0')\n",
    "        loaded_keep_prob = loaded_graph.get_tensor_by_name('keep_prob:0')\n",
    "        loaded_logits = loaded_graph.get_tensor_by_name('logits:0')\n",
    "        loaded_acc = loaded_graph.get_tensor_by_name('accuracy:0')\n",
    "        \n",
    "        # Get accuracy in batches for memory limitations\n",
    "        test_batch_acc_total = 0\n",
    "        test_batch_count = 0\n",
    "        \n",
    "        for test_feature_batch, test_label_batch in helper.batch_features_labels(test_features, test_labels, batch_size):\n",
    "            test_batch_acc_total += sess.run(\n",
    "                loaded_acc,\n",
    "                feed_dict={loaded_x: test_feature_batch, loaded_y: test_label_batch, loaded_keep_prob: 1.0})\n",
    "            test_batch_count += 1\n",
    "\n",
    "        print('Testing Accuracy: {}\\n'.format(test_batch_acc_total/test_batch_count))\n",
    "\n",
    "        # Print Random Samples\n",
    "        random_test_features, random_test_labels = tuple(zip(*random.sample(list(zip(test_features, test_labels)), n_samples)))\n",
    "        random_test_predictions = sess.run(\n",
    "            tf.nn.top_k(tf.nn.softmax(loaded_logits), top_n_predictions),\n",
    "            feed_dict={loaded_x: random_test_features, loaded_y: random_test_labels, loaded_keep_prob: 1.0})\n",
    "        helper.display_image_predictions(random_test_features, random_test_labels, random_test_predictions)\n",
    "\n",
    "\n",
    "test_model()"
   ]
  },
  {
   "cell_type": "markdown",
   "metadata": {
    "deletable": true,
    "editable": true
   },
   "source": [
    "## Why 50-80% Accuracy?\n",
    "You might be wondering why you can't get an accuracy any higher. First things first, 50% isn't bad for a simple CNN.  Pure guessing would get you 10% accuracy. However, you might notice people are getting scores [well above 80%](http://rodrigob.github.io/are_we_there_yet/build/classification_datasets_results.html#43494641522d3130).  That's because we haven't taught you all there is to know about neural networks. We still need to cover a few more techniques.\n",
    "## Submitting This Project\n",
    "When submitting this project, make sure to run all the cells before saving the notebook.  Save the notebook file as \"dlnd_image_classification.ipynb\" and save it as a HTML file under \"File\" -> \"Download as\".  Include the \"helper.py\" and \"problem_unittests.py\" files in your submission."
   ]
  }
 ],
 "metadata": {
  "kernelspec": {
   "display_name": "Python 3",
   "language": "python",
   "name": "python3"
  },
  "language_info": {
   "codemirror_mode": {
    "name": "ipython",
    "version": 3
   },
   "file_extension": ".py",
   "mimetype": "text/x-python",
   "name": "python",
   "nbconvert_exporter": "python",
   "pygments_lexer": "ipython3",
   "version": "3.5.3"
  },
  "widgets": {
   "state": {},
   "version": "1.1.2"
  }
 },
 "nbformat": 4,
 "nbformat_minor": 0
}
